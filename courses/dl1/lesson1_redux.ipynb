{
 "cells": [
  {
   "cell_type": "code",
   "execution_count": null,
   "metadata": {},
   "outputs": [],
   "source": [
    "# Put these at the top of every notebook, to get automatic reloading and inline plotting\n",
    "%reload_ext autoreload  # so when we change underlying code, it reloads automaticallyb\n",
    "%autoreload 2\n",
    "%matplotlib inline"
   ]
  },
  {
   "cell_type": "code",
   "execution_count": null,
   "metadata": {},
   "outputs": [],
   "source": [
    "from fastai.imports import *\n",
    "from fastai.transformas import * \n",
    "from fastai.conv_learner import *\n",
    "from fastai.model import *\n",
    "from fastai.dataset import *\n",
    "from fastai.sgdr import *\n",
    "from fastai.plots import *"
   ]
  },
  {
   "cell_type": "code",
   "execution_count": null,
   "metadata": {},
   "outputs": [],
   "source": [
    "PATH=\"data/dogscats/\"\n",
    "sz=224  # images will be resized to this (to speed training?)\n",
    "torch.cuda.is_available()  # check that GPU is setup correctly \n",
    "torch.backends.cudnn.enable  # check for accelerated fncs\n",
    "\n",
    "# ! wget http://files.fast.ai/data/dogscats.zip  # download data"
   ]
  },
  {
   "cell_type": "code",
   "execution_count": null,
   "metadata": {},
   "outputs": [],
   "source": [
    "# basic dataset exploration \n",
    "print(os.listdir(PATH))\n",
    "print(os.listdir(f'{PATH}valid'))\n",
    "files = os.listdir(f'{PATH}valid/cats')[:5]\n",
    "print(\"files: {files}\")\n",
    "img = plt.imread(f'{PATH}valid/cats/{files[0]}')\n",
    "plt.imshow(img)\n",
    "print(img.shape)\n",
    "print(img[:4,:4])\n"
   ]
  },
  {
   "cell_type": "code",
   "execution_count": null,
   "metadata": {},
   "outputs": [],
   "source": [
    "# Start with pretrained resnet module \n",
    "# more info: https://github.com/KaimingHe/deep-residual-networks\n",
    "#... pretrained on ImageNet (1.2 million images with 1000 classes) \n",
    "#... resnet34 won the 2015 ImageNet competition\n",
    "arch=resnet34\n",
    "data = ImageClassifierData.from_paths(PATH, tfms=tfms_from_model(arch,sz))\n",
    "learn = ConvLearner.pretrained(arch, data, precompute=True)\n",
    "learn.fit(0.01, 2)"
   ]
  },
  {
   "cell_type": "code",
   "execution_count": null,
   "metadata": {},
   "outputs": [],
   "source": [
    "# look at some results\n",
    "# 1. few correct labels \n",
    "# 2. few incorrect labels \n",
    "# 3. most correct labels of each class\n",
    "# 4. most incorrect of each class\n",
    "# 5. most uncertain labels"
   ]
  },
  {
   "cell_type": "code",
   "execution_count": null,
   "metadata": {},
   "outputs": [],
   "source": [
    "data.val_y  # label for validation data \n",
    "data.classes  #['cats', 'dogs'] means cats = 0, dogs = 1 \n",
    "log_preds = learn.predict()  # prediction for validation set\n",
    "print(log_preds.shape)  # size of prediction matrix \n",
    "print(log_preds[:10])\n",
    "\n",
    "preds = np.argmax(log_preds, axis=1)  # from log probs to 0 or 1 \n",
    "probs = np.exp(log_preds[:,1])  # P(dog) "
   ]
  },
  {
   "cell_type": "code",
   "execution_count": 2,
   "metadata": {},
   "outputs": [],
   "source": [
    "# make some helper functions \n",
    "def rand_by_mask(mask):\n",
    "    # get 4 random images from class\n",
    "    return np.random.choice(np.where(mask)[0], 4, replace=False)\n",
    "\n",
    "def rand_by_correct(is_correct):\n",
    "    # get correct images \n",
    "    return rand_by_mask((preds==data.val_y)==is_correct)\n",
    "\n",
    "def plot_val_with_title(idxs, title):\n",
    "    imgs = np.stack([data.val_ds[x][0]] for x in idxs)\n",
    "    title_probs = [probs[x] for x in idxs]\n",
    "    print(title)\n",
    "    return plots(data.val_ds.denorm(imgs), rows=1, titles=title_probs)\n",
    "\n",
    "def plots(ims, figsize=(12,6), rows=1, titles=None):\n",
    "    f = plt.figure(figsize=figsize)\n",
    "    for ii in range(len(imgs)):\n",
    "        sp = f.add_subplot(rows, len(ims)//rows, ii+1)\n",
    "        sp.axis('Off')\n",
    "        if titles is not None:\n",
    "            sp.set_title(titles[ii], fontsize=16)\n",
    "        plt.imshow(ims[i])\n",
    "        \n",
    "def load_img_id(ds, idx):\n",
    "    return np.array(PIL.Image.open(PATH+ds.fnames[idx]))\n",
    "\n",
    "def plot_val_with_title(idxs, title):\n",
    "    imgs = [load_img_id(data.val_ds,x) for x in idxs]\n",
    "    title_probs = [probs[x] for x in idxs]\n",
    "    print(title)\n",
    "    return plots(imgs, rows=1, titles=title_probs, figsize=(16,8))\n",
    "\n",
    "def most_by_mask(mask, mult):\n",
    "    idxs = np.where(mask)[0]\n",
    "    return idxs[np.argsort(mult*probs[idxs])[:4]]\n",
    "\n",
    "def most_by_correct(y, is_correct):\n",
    "    mult = -1 if (y==1)==is_correct else 1\n",
    "    return most_by_mask(((preds==data.val_y)==is_correct) \\\n",
    "            & (data.val_y==y), mult)"
   ]
  },
  {
   "cell_type": "code",
   "execution_count": null,
   "metadata": {},
   "outputs": [],
   "source": [
    "# 1. A few correct labels\n",
    "plot_val_with_title(rand_by_correct(True), \"Correct\")\n"
   ]
  },
  {
   "cell_type": "code",
   "execution_count": null,
   "metadata": {},
   "outputs": [],
   "source": [
    "# 2. Incorrect labels \n",
    "plot_val_with_title(rand_by_correct(Falst), \"Incorrect\")\n"
   ]
  },
  {
   "cell_type": "code",
   "execution_count": null,
   "metadata": {},
   "outputs": [],
   "source": [
    "# 3. Most correct \n",
    "plot_val_with_title(most_by_correct(0, True), \"Most correct cats\")\n",
    "plot_val_with_title(most_by_correct(1, True), \"Most correct dogs\")\n"
   ]
  },
  {
   "cell_type": "code",
   "execution_count": null,
   "metadata": {},
   "outputs": [],
   "source": [
    "# 4. Most incorrect\n",
    "plot_val_with_title(most_by_correct(0, False), \"Most incorrect cats\")\n",
    "plot_val_with_title(most_by_correct(1, False), \"Most incorrect dogs\")"
   ]
  },
  {
   "cell_type": "code",
   "execution_count": null,
   "metadata": {},
   "outputs": [],
   "source": [
    "# 5. Most uncertain \n",
    "most_uncertain = np.argsort(np.abs(probs - 0.5))[:4]\n",
    "plot_val_with_title(most_uncertain, \"Most uncertain\")"
   ]
  }
 ],
 "metadata": {
  "kernelspec": {
   "display_name": "Python 3",
   "language": "python",
   "name": "python3"
  },
  "language_info": {
   "codemirror_mode": {
    "name": "ipython",
    "version": 3
   },
   "file_extension": ".py",
   "mimetype": "text/x-python",
   "name": "python",
   "nbconvert_exporter": "python",
   "pygments_lexer": "ipython3",
   "version": "3.6.4"
  }
 },
 "nbformat": 4,
 "nbformat_minor": 2
}
